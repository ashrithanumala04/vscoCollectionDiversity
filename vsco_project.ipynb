{
 "cells": [
  {
   "cell_type": "code",
   "execution_count": 1,
   "id": "12b524ca",
   "metadata": {},
   "outputs": [],
   "source": [
    "# analyze vsco collection\n",
    "# web scrape for account of the person you reposted the image from\n",
    "# and try to calculate diversity of people you're reposting\n",
    "# diversity index calc- "
   ]
  },
  {
   "cell_type": "code",
   "execution_count": 2,
   "id": "ee6e2e2f",
   "metadata": {},
   "outputs": [],
   "source": [
    "import requests\n",
    "import bs4\n",
    "from bs4 import BeautifulSoup as soup\n",
    "import csv\n",
    "from csv import writer"
   ]
  },
  {
   "cell_type": "code",
   "execution_count": null,
   "id": "fed7dbd3",
   "metadata": {},
   "outputs": [],
   "source": []
  },
  {
   "cell_type": "code",
   "execution_count": 3,
   "id": "cd3e75c0",
   "metadata": {},
   "outputs": [],
   "source": [
    "#each vsco user html starts with id: siteid, userid"
   ]
  },
  {
   "cell_type": "code",
   "execution_count": 4,
   "id": "6ece6a1c",
   "metadata": {},
   "outputs": [
    {
     "name": "stdout",
     "output_type": "stream",
     "text": [
      "['pranav444', 'swimsharma', 'deveshl', 'tharunsoban', 'areebah-s', 'amrutha0521', 'tharunsoban', 'deveshl', 'deveshl', 'deveshl', 'deveshl', 'deveshl', 'deveshl', 'deveshl', 'rudrarav', 'krithik66', 'kavyapanchakarla', 'tharunsoban', 'amrutha0521', 'hamzahussain-', 'pranav444', 'swimsharma', 'deveshl', 'tharunsoban', 'areebah-s', 'amrutha0521', 'tharunsoban', 'deveshl', 'deveshl', 'deveshl', 'deveshl', 'deveshl', 'deveshl', 'deveshl', 'rudrarav', 'krithik66', 'kavyapanchakarla', 'tharunsoban', 'amrutha0521', 'hamzahussain-']\n"
     ]
    }
   ],
   "source": [
    "#scraping name and username into UserInfo\n",
    "url = 'https://vsco.co/ftbadawg92/collection/1'\n",
    "r = requests.get(url)\n",
    "html = soup(r.text,'html.parser')\n",
    "body = str(html.find('body'))\n",
    "userList = body.split('permaSubdomain\":\"')\n",
    "userList.pop(0)\n",
    "for idx in range(len(userList)):\n",
    "    userInfo = (userList[idx].split(\"\\\"\")[0])\n",
    "    userList[idx] = userInfo\n",
    "print(userList)"
   ]
  },
  {
   "cell_type": "code",
   "execution_count": 5,
   "id": "a403b84a",
   "metadata": {},
   "outputs": [],
   "source": [
    "#creating map\n",
    "repost_counts = {}\n",
    "for user in userList: \n",
    "    if user in repost_counts:\n",
    "        repost_counts[user] = repost_counts[user] + 1\n",
    "    else:\n",
    "        repost_counts[user] = 1"
   ]
  },
  {
   "cell_type": "code",
   "execution_count": 8,
   "id": "08e38076",
   "metadata": {},
   "outputs": [],
   "source": [
    "#generating SDI\n",
    "def sdi(reposts):\n",
    "    diversity = 0\n",
    "    total = getTotal(reposts)\n",
    "    for item in reposts:\n",
    "        diversity += (reposts[item] / total)**2\n",
    "    return diversity\n",
    "\n",
    "def getTotal(reposts):\n",
    "    total = 0\n",
    "    for user in reposts:\n",
    "        total += reposts[user] \n",
    "    return total"
   ]
  },
  {
   "cell_type": "code",
   "execution_count": 9,
   "id": "23cc7f14",
   "metadata": {},
   "outputs": [
    {
     "data": {
      "text/plain": [
       "0.21000000000000005"
      ]
     },
     "execution_count": 9,
     "metadata": {},
     "output_type": "execute_result"
    }
   ],
   "source": [
    "sdi(repost_counts)"
   ]
  },
  {
   "cell_type": "code",
   "execution_count": null,
   "id": "32e793cb",
   "metadata": {},
   "outputs": [],
   "source": []
  },
  {
   "cell_type": "code",
   "execution_count": null,
   "id": "a6becd2c",
   "metadata": {},
   "outputs": [],
   "source": []
  },
  {
   "cell_type": "code",
   "execution_count": null,
   "id": "ec652468",
   "metadata": {},
   "outputs": [],
   "source": []
  }
 ],
 "metadata": {
  "kernelspec": {
   "display_name": "Python 3 (ipykernel)",
   "language": "python",
   "name": "python3"
  },
  "language_info": {
   "codemirror_mode": {
    "name": "ipython",
    "version": 3
   },
   "file_extension": ".py",
   "mimetype": "text/x-python",
   "name": "python",
   "nbconvert_exporter": "python",
   "pygments_lexer": "ipython3",
   "version": "3.10.6"
  },
  "vscode": {
   "interpreter": {
    "hash": "aee8b7b246df8f9039afb4144a1f6fd8d2ca17a180786b69acc140d282b71a49"
   }
  }
 },
 "nbformat": 4,
 "nbformat_minor": 5
}
